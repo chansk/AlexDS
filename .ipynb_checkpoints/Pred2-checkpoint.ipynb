{
 "cells": [
  {
   "cell_type": "code",
   "execution_count": 23,
   "id": "cf2556ba",
   "metadata": {},
   "outputs": [],
   "source": [
    "import os\n",
    "import pandas as pd\n",
    "import pandas_datareader.data as web\n",
    "import matplotlib.pyplot as plt\n",
    "import yfinance as yf\n",
    "import numpy as np\n",
    "from sklearn.linear_model import LinearRegression\n",
    "from datetime import date # data class from datetime module"
   ]
  },
  {
   "cell_type": "code",
   "execution_count": 8,
   "id": "867a91ea",
   "metadata": {},
   "outputs": [],
   "source": [
    "stck = yf.Ticker(\"AAPL\")\n",
    "# print(stck.info)"
   ]
  },
  {
   "cell_type": "code",
   "execution_count": 28,
   "id": "43e7b0a7",
   "metadata": {},
   "outputs": [],
   "source": [
    "MyDate = today.strftime(\"%Y-%m-%d\")"
   ]
  },
  {
   "cell_type": "code",
   "execution_count": 29,
   "id": "b7fdcdca",
   "metadata": {},
   "outputs": [
    {
     "data": {
      "text/plain": [
       "'2023-01-31'"
      ]
     },
     "execution_count": 29,
     "metadata": {},
     "output_type": "execute_result"
    }
   ],
   "source": [
    "MyDate"
   ]
  },
  {
   "cell_type": "code",
   "execution_count": 10,
   "id": "08588299",
   "metadata": {},
   "outputs": [
    {
     "data": {
      "image/png": "[encoded data removed]",
      "text/plain": [
       "<Figure size 432x288 with 1 Axes>"
      ]
     },
     "metadata": {
      "needs_background": "light"
     },
     "output_type": "display_data"
    }
   ],
   "source": [
    "# Retrieve Apple stock data from Yahoo Finance\n",
    "apple = yf.Ticker(\"AAPL\").history(start=\"2010-01-01\", end=MyDate)\n",
    "\n",
    "# Plot the close price\n",
    "plt.plot(apple[\"Close\"])\n",
    "plt.xlabel(\"Date\")\n",
    "plt.ylabel(\"Close Price\")\n",
    "plt.title(\"Apple Stock Price\")\n",
    "plt.show()"
   ]
  },
  {
   "cell_type": "markdown",
   "id": "a1de3438",
   "metadata": {},
   "source": [
    "What will closing price be tomorrow?"
   ]
  },
  {
   "cell_type": "code",
   "execution_count": 19,
   "id": "2f313d3f",
   "metadata": {},
   "outputs": [
    {
     "name": "stdout",
     "output_type": "stream",
     "text": [
      "Tomorrow's closing price prediction:  121.88997282146457\n"
     ]
    }
   ],
   "source": [
    "# Create the X and y arrays for training\n",
    "X = np.array(range(len(apple))).reshape(-1, 1) # Number day\n",
    "y = np.array(apple[\"Close\"]).reshape(-1, 1) # Closing price\n",
    "\n",
    "# Train the model\n",
    "model = LinearRegression() # using single linear regression\n",
    "model.fit(X, y)\n",
    "# could be improved if we had another factor to go along with it\n",
    "\n",
    "# Predict the close price for tomorrow\n",
    "tomorrow = model.predict(np.array([len(apple)]).reshape(-1, 1))\n",
    "\n",
    "# Print the prediction\n",
    "print(\"Tomorrow's closing price prediction: \", tomorrow[0][0])"
   ]
  },
  {
   "cell_type": "code",
   "execution_count": null,
   "id": "e827b2d3",
   "metadata": {},
   "outputs": [],
   "source": []
  }
 ],
 "metadata": {
  "kernelspec": {
   "display_name": "Python 3 (ipykernel)",
   "language": "python",
   "name": "python3"
  },
  "language_info": {
   "codemirror_mode": {
    "name": "ipython",
    "version": 3
   },
   "file_extension": ".py",
   "mimetype": "text/x-python",
   "name": "python",
   "nbconvert_exporter": "python",
   "pygments_lexer": "ipython3",
   "version": "3.9.12"
  }
 },
 "nbformat": 4,
 "nbformat_minor": 5
}
