{
 "cells": [
  {
   "cell_type": "code",
   "execution_count": 1,
   "id": "427a734b",
   "metadata": {},
   "outputs": [],
   "source": [
    "import os\n",
    "import pandas as pd\n",
    "import pandas_datareader.data as web\n",
    "import matplotlib.pyplot as plt\n",
    "import yfinance as yf\n",
    "import numpy as np\n",
    "from sklearn.linear_model import LinearRegression\n",
    "from datetime import date # data class from datetime module"
   ]
  },
  {
   "cell_type": "code",
   "execution_count": 10,
   "id": "7aa5835d",
   "metadata": {},
   "outputs": [],
   "source": [
    "stck = yf.Ticker(\"AAPL\")\n",
    "# print(stck.info)"
   ]
  },
  {
   "cell_type": "code",
   "execution_count": 11,
   "id": "3a50ce08",
   "metadata": {
    "scrolled": false
   },
   "outputs": [
    {
     "data": {
      "text/plain": [
       "'2023-02-01'"
      ]
     },
     "execution_count": 11,
     "metadata": {},
     "output_type": "execute_result"
    }
   ],
   "source": [
    "today = date.today()\n",
    "MyDate = today.strftime(\"%Y-%m-%d\")\n",
    "MyDate"
   ]
  },
  {
   "cell_type": "code",
   "execution_count": 12,
   "id": "d47f8db6",
   "metadata": {},
   "outputs": [
    {
     "data": {
      "image/png": "[encoded data removed]",
      "text/plain": [
       "<Figure size 432x288 with 1 Axes>"
      ]
     },
     "metadata": {
      "needs_background": "light"
     },
     "output_type": "display_data"
    }
   ],
   "source": [
    "# Retrieve Apple stock data from Yahoo Finance\n",
    "apple = yf.Ticker(\"AAPL\").history(start=\"2010-01-01\", end=MyDate)\n",
    "\n",
    "# Plot the close price\n",
    "plt.plot(apple[\"Close\"])\n",
    "plt.xlabel(\"Date\")\n",
    "plt.ylabel(\"Close Price\")\n",
    "plt.title(\"Apple Stock Price\")\n",
    "plt.show()"
   ]
  },
  {
   "cell_type": "markdown",
   "id": "beead314",
   "metadata": {},
   "source": [
    "What will closing price be tomorrow?"
   ]
  },
  {
   "cell_type": "code",
   "execution_count": 20,
   "id": "8a2df9f3",
   "metadata": {},
   "outputs": [
    {
     "data": {
      "text/plain": [
       "array([1])"
      ]
     },
     "execution_count": 20,
     "metadata": {},
     "output_type": "execute_result"
    }
   ],
   "source": [
    "X[1]"
   ]
  },
  {
   "cell_type": "code",
   "execution_count": 23,
   "id": "648dc098",
   "metadata": {},
   "outputs": [
    {
     "data": {
      "text/plain": [
       "'[7.52647734]'"
      ]
     },
     "execution_count": 23,
     "metadata": {},
     "output_type": "execute_result"
    }
   ],
   "source": [
    "str(X[1] + y[1])"
   ]
  },
  {
   "cell_type": "code",
   "execution_count": 21,
   "id": "41e956d0",
   "metadata": {},
   "outputs": [
    {
     "data": {
      "text/plain": [
       "array([6.52647734])"
      ]
     },
     "execution_count": 21,
     "metadata": {},
     "output_type": "execute_result"
    }
   ],
   "source": [
    "y[1]"
   ]
  },
  {
   "cell_type": "code",
   "execution_count": 13,
   "id": "415fa106",
   "metadata": {},
   "outputs": [
    {
     "name": "stdout",
     "output_type": "stream",
     "text": [
      "Tomorrow's closing price prediction:  121.8899728364053\n"
     ]
    }
   ],
   "source": [
    "# Create the X and y arrays for training\n",
    "X = np.array(range(len(apple))).reshape(-1, 1) # Number day\n",
    "y = np.array(apple[\"Close\"]).reshape(-1, 1) # Closing price\n",
    "\n",
    "# Train the model\n",
    "model = LinearRegression() # using single linear regression\n",
    "model.fit(X, y)\n",
    "# could be improved if we had another factor to go along with it\n",
    "\n",
    "# Predict the close price for tomorrow\n",
    "tomorrow = model.predict(np.array([len(apple)]).reshape(-1, 1))\n",
    "\n",
    "# Print the prediction\n",
    "print(\"Tomorrow's closing price prediction: \", tomorrow[0][0])"
   ]
  },
  {
   "cell_type": "markdown",
   "id": "14b2ac19",
   "metadata": {},
   "source": [
    "Flask notes:\n",
    "\n",
    "Development server allows unrestricted access to its data. This is clearly useful for people developing applications.\n",
    "\n",
    "Production server is for restricting data access through server. This is useful for serving apps to customers."
   ]
  },
  {
   "cell_type": "code",
   "execution_count": 34,
   "id": "47b42411",
   "metadata": {},
   "outputs": [],
   "source": [
    "def stock_pred():\n",
    "    today = date.today()\n",
    "    MyDate = today.strftime(\"%Y-%m-%d\")\n",
    "    \n",
    "    # Retrieve Apple stock data from Yahoo Finance\n",
    "    apple = yf.Ticker(\"AAPL\").history(start=\"2010-01-01\", end=MyDate)\n",
    "\n",
    "    # Plot the close price\n",
    "#     plt.plot(apple[\"Close\"])\n",
    "#     plt.xlabel(\"Date\")\n",
    "#     plt.ylabel(\"Close Price\")\n",
    "#     plt.title(\"Apple Stock Price\")\n",
    "#     plt.show()\n",
    "    # trouble plotting in webpage for some reason\n",
    "    \n",
    "    # Create the X and y arrays for training\n",
    "    X = np.array(range(len(apple))).reshape(-1, 1) # Number day\n",
    "    y = np.array(apple[\"Close\"]).reshape(-1, 1) # Closing price\n",
    "\n",
    "#     return(str(X[1] + y[1]))\n",
    "    \n",
    "    # Train the model\n",
    "    model = LinearRegression() # using single linear regression\n",
    "    model.fit(X, y)\n",
    "    # could be improved if we had another factor to go along with it\n",
    "\n",
    "#     # Predict the close price for tomorrow\n",
    "    tomorrow = model.predict(np.array([len(apple)]).reshape(-1, 1))\n",
    "\n",
    "#     # Print the prediction\n",
    "#     return(print(\"Tomorrow's closing price prediction: \", str(tomorrow[0][0])))\n",
    "    return(\"Tomorrow's closing price prediction: \", str(tomorrow[0][0]))"
   ]
  },
  {
   "cell_type": "code",
   "execution_count": 35,
   "id": "321f0f13",
   "metadata": {},
   "outputs": [
    {
     "name": "stdout",
     "output_type": "stream",
     "text": [
      "Tomorrow's closing price prediction:  121.96088692553518\n"
     ]
    }
   ],
   "source": [
    "stock_pred()"
   ]
  },
  {
   "cell_type": "code",
   "execution_count": 37,
   "id": "cc3c4a79",
   "metadata": {},
   "outputs": [
    {
     "data": {
      "text/plain": [
       "'121.88997349194919'"
      ]
     },
     "execution_count": 37,
     "metadata": {},
     "output_type": "execute_result"
    }
   ],
   "source": [
    "str(tomorrow[0][0])"
   ]
  },
  {
   "cell_type": "code",
   "execution_count": null,
   "id": "769846bf",
   "metadata": {},
   "outputs": [],
   "source": []
  }
 ],
 "metadata": {
  "kernelspec": {
   "display_name": "Python 3 (ipykernel)",
   "language": "python",
   "name": "python3"
  },
  "language_info": {
   "codemirror_mode": {
    "name": "ipython",
    "version": 3
   },
   "file_extension": ".py",
   "mimetype": "text/x-python",
   "name": "python",
   "nbconvert_exporter": "python",
   "pygments_lexer": "ipython3",
   "version": "3.9.12"
  }
 },
 "nbformat": 4,
 "nbformat_minor": 5
}
